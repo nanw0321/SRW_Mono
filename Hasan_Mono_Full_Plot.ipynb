{
 "cells": [
  {
   "cell_type": "markdown",
   "metadata": {},
   "source": [
    "### Import modules"
   ]
  },
  {
   "cell_type": "code",
   "execution_count": 1,
   "metadata": {},
   "outputs": [],
   "source": [
    "from __future__ import absolute_import\n",
    "from __future__ import division\n",
    "from __future__ import print_function\n",
    "from __future__ import unicode_literals\n",
    "\n",
    "%matplotlib inline\n",
    "import sys\n",
    "sys.path.insert(0,r\"C:\\Users\\nanw0\\GoogleDrive\\SLAC\\SLAC-Diling\\8. 20 Winter\\Beam_propagation\\WPG\\WPG-develop\")\n",
    "\n",
    "%load_ext autoreload"
   ]
  },
  {
   "cell_type": "code",
   "execution_count": 217,
   "metadata": {},
   "outputs": [],
   "source": [
    "#Importing necessary modules:\n",
    "import os\n",
    "import sys\n",
    "import copy\n",
    "\n",
    "sys.path.insert(0,os.path.join('..','..'))\n",
    "#sys.path.insert('../..')\n",
    "\n",
    "import time\n",
    "import numpy as np\n",
    "import pylab as plt\n",
    "\n",
    "# import auxiliar functions\n",
    "%autoreload 2\n",
    "from Auxiliary import *"
   ]
  },
  {
   "cell_type": "markdown",
   "metadata": {},
   "source": [
    "### Input variables"
   ]
  },
  {
   "cell_type": "code",
   "execution_count": 344,
   "metadata": {
    "scrolled": false
   },
   "outputs": [],
   "source": [
    "''' crystal variables  '''\n",
    "crystal_type='220'\n",
    "ang_as = np.deg2rad(5)           # asymmetric angle\n",
    "\n",
    "if crystal_type == '111':\n",
    "    ''' Silicon 111 crystal '''\n",
    "    d_sp = 3.13557135638            # reflecting plane d-spacing [A]\n",
    "    psi0r = -5.11321939903e-05      # real part of 0th Fourier component of crystal polarizability\n",
    "    psi0i = 3.58887560736e-06       # imaginary part of \"\"\n",
    "    psi_hr = -2.71341902391e-05     # real part of Hth Fourier component\n",
    "    psi_hi = 2.50565837652e-06      # imaginary part of \"\"\n",
    "    psi_hbr = -2.71341902391e-05    # real part of -Hth Fourier coumponent\n",
    "    psi_hbi = 2.50565837652e-06     # imaginary part of \"\"\n",
    "    \n",
    "if crystal_type == '220':\n",
    "    ''' Silicon 220 crystal '''\n",
    "    d_sp = 1.9201374688016222        # reflecting plane d-spacing [A]\n",
    "    psi0r = -9.7640050694412e-06     # real part of 0th Fourier component of crystal polarizability\n",
    "    psi0i = 1.4938680132506875e-07   # imaginary part of \"\"\n",
    "    psi_hr = -5.932463856370471e-06  # real part of Hth Fourier component\n",
    "    psi_hi = 1.44406950529943e-07    # imaginary part of \"\"\n",
    "    psi_hbr = -5.932463856370471e-06 # real part of -Hth Fourier coumponent\n",
    "    psi_hbi = 1.44406950529943e-07   # imaginary part of \"\"\n",
    "    \n",
    "tc = 0.01                        # crystal thickness\n",
    "uc = 1                           # use case: 1 (Bragg reflection); 2 (Bragg transmission)\n",
    "ang_dif_pl = 0                   # diffraction plane angle: 0 (vertical); pi/2 (horizontal)\n",
    "Temp_Crystal = SRWLOptCryst(d_sp,psi0r,psi0i,psi_hr,psi_hi,psi_hbr,psi_hbi,tc,ang_as,_uc=uc)\n",
    "\n",
    "# lens parameters (PMMA)\n",
    "n = 1 - 5.89e-6         # material refractive index\n",
    "#d_abs = 788e-6          # material absorption depth\n",
    "d_abs = 1\n",
    "f_lens = 1              # lens focal distance\n",
    "\n",
    "# aperture parameters\n",
    "Apt_width = 1000e-6      # aperture width (1D)\n",
    "acentx = 0              # center of aperture [m]\n",
    "acenty = 0\n",
    "\n",
    "''' incident beam variables '''\n",
    "ekev = 10.0                 # photon energy [kev]\n",
    "pulse_duration = 50e-15    # pulse duration (rms) [t]\n",
    "z1 = 200.0                  # distance to first OE [m]\n",
    "sigX = 50e-6/2.36           # w0 (rms) [m]\n",
    "npoints = 5000              # wavefront sampling dimension\n",
    "if_load_input = 0           # load (1) or generate (0) incident wavefront\n",
    "\n",
    "# default values\n",
    "qnC = 0.1                   # charge [nC]\n",
    "pulseEnergy = 0.5e-3        # pulse energy [J]\n",
    "dt = 0.5e-15                # time sampling resolution\n",
    "if pulse_duration/dt <= 10:\n",
    "    print('incident beam too short, changing to finer sampling resolution ...')\n",
    "    dt = 0.1e-15\n",
    "    if pulse_duration/dt <= 10:\n",
    "        print(\".... okay, the beam is really too short, simulation might break down\")\n",
    "hbar = 6.582119569e-16\n",
    "\n",
    "# input dimensions\n",
    "npointsx = 2                # number of points vs horizontal position\n",
    "npointsy = npoints          # \"\"\"\"\"\"\"\"\"\"\"\"\"\"\"\"\"\"  vertical position"
   ]
  },
  {
   "cell_type": "markdown",
   "metadata": {},
   "source": [
    "### Calculate sampling parameters"
   ]
  },
  {
   "cell_type": "code",
   "execution_count": 345,
   "metadata": {},
   "outputs": [
    {
     "name": "stdout",
     "output_type": "stream",
     "text": [
      "beam parameters:\n",
      "    10.0keV, 50.0fs, 21.19um w0, 1.86urad divergence\n",
      "sampling parameters:\n",
      "    0.5fs dt, 4.14meV deV, 2000 nz, 20.0 pulseRange\n",
      "other parameters:\n",
      "    Bragg angle 18.84deg, stretched pulse length 1000.0fs\n",
      "diffraction limit 0.06um, Rayleigh range 0.08mm, Fresnel distance 7.25um\n"
     ]
    }
   ],
   "source": [
    "''' calculations '''\n",
    "wl0 = E2L(ekev*1e3)                 # wavelength\n",
    "k0 = 2*np.pi/wl0                    # wavenumber\n",
    "divergence = wl0/np.pi/sigX         # paraxial beam divergence (rms)\n",
    "range_xy = divergence/2 * z1 * 10    # spatial sampling range (5 sigma)\n",
    "\n",
    "nvx0, nvy0, nvz0 = Temp_Crystal.find_orient(ekev*1e3,ang_dif_pl)[0][2]\n",
    "thetaB0 = np.arctan(-nvz0/nvy0)+ang_as\n",
    "\n",
    "trange = calc_stretching(thetaB0, ang_as, range_xy)    # stretched pulse duration\n",
    "pulseRange = trange/pulse_duration\n",
    "\n",
    "if pulseRange < 400:\n",
    "    pulseRange = 400\n",
    "    trange = pulse_duration * pulseRange\n",
    "\n",
    "if trange > 1000e-15:\n",
    "    trange = 1000e-15\n",
    "    pulseRange = trange/pulse_duration\n",
    "\n",
    "if trange < 300e-15:\n",
    "    trange = 300e-15\n",
    "    pulseRange = trange/pulse_duration\n",
    "\n",
    "dev = 1/trange * 2*np.pi * hbar     # photon energy sampling resolution\n",
    "nz = int(trange/dt)                 # number of photon energy slices\n",
    "if nz % 2!=0:\n",
    "    nz += 1\n",
    "    \n",
    "''' diffraction limit and focal spot Rayleigh range '''\n",
    "thetamax = 2*np.arctan(divergence/2*z1*3/f_lens)\n",
    "dlim = wl0/2/n/np.sin(thetamax)     # diffraction limit\n",
    "zR = 1/2 * k0 * dlim**2             # focal spot Rayleigh range\n",
    "\n",
    "print('beam parameters:\\n    {}keV, {}fs, {}um w0, {}urad divergence'.format(\n",
    "    ekev, round(pulse_duration*1e15,2), round(sigX*1e6,2), round(divergence*1e6,2)))\n",
    "print('sampling parameters:\\n    {}fs dt, {}meV deV, {} nz, {} pulseRange'.format(\n",
    "    round(dt*1e15,2), round(dev*1e3,2), nz, round(pulseRange,2)))\n",
    "print('other parameters:\\n    Bragg angle {}deg, stretched pulse length {}fs'.format(\n",
    "    round(np.rad2deg(thetaB0),2),round(trange*1e15,2)))\n",
    "print('diffraction limit {}um, Rayleigh range {}mm, Fresnel distance {}um'.format(\n",
    "    round(dlim*1e6,2), round(zR*1e3,2), round((3e8*0.1e-15)**2/wl0*1e6,2)))\n"
   ]
  },
  {
   "cell_type": "code",
   "execution_count": 346,
   "metadata": {},
   "outputs": [],
   "source": [
    "''' directories '''\n",
    "# output data directory\n",
    "strDataFolderName = 'WPG_output/Hasan_Mono/' \n",
    "if not os.path.exists(strDataFolderName):\n",
    "    mkdir_p(strDataFolderName)\n",
    "\n",
    "# sub-folder for current sampling parameters\n",
    "dirname_duration = strDataFolderName+'Si_{}_{}fs_beam/'.format(\n",
    "    crystal_type,round(pulse_duration*1e15,1))\n",
    "if not os.path.exists(dirname_duration):\n",
    "    mkdir_p(dirname_duration)\n",
    "\n",
    "# sub-sub-folder for incident beam\n",
    "dirname_input = dirname_duration+'incident_beam/'\n",
    "if not os.path.exists(dirname_input):\n",
    "    mkdir_p(dirname_input)\n",
    "\n",
    "# sub-sub-folder for propagated beam\n",
    "dirname_prop = dirname_duration+'propagation/'\n",
    "if not os.path.exists(dirname_prop):\n",
    "    mkdir_p(dirname_prop)\n",
    "\n",
    "''' filenames '''\n",
    "name0 = 'incident'\n",
    "name1 = 'cc1'\n",
    "name2 = 'lens0'\n",
    "name3 = 'apt'\n",
    "name4 = 'lens1'\n",
    "name5 = 'cc2'\n",
    "\n",
    "fname_incident = dirname_input+'incident_compressed.h5'\n",
    "fname_cc1 = dirname_prop+'wf_{}um_slit_{}_compressed.h5'.format(round(Apt_width*1e6,2),name1)\n",
    "fname_l0  = dirname_prop+'wf_{}um_slit_{}_compressed.h5'.format(round(Apt_width*1e6,2),name2)\n",
    "fname_apt = dirname_prop+'wf_{}um_slit_{}_compressed.h5'.format(round(Apt_width*1e6,2),name3)\n",
    "fname_l1  = dirname_prop+'wf_{}um_slit_{}_compressed.h5'.format(round(Apt_width*1e6,2),name4)\n",
    "fname_cc2 = dirname_prop+'wf_{}um_slit_{}_compressed.h5'.format(round(Apt_width*1e6,2),name5)\n"
   ]
  },
  {
   "cell_type": "markdown",
   "metadata": {},
   "source": [
    "### Plot results"
   ]
  },
  {
   "cell_type": "raw",
   "metadata": {},
   "source": [
    "''' structure everywhere '''\n",
    "ori = 'V'\n",
    "if_log = 0\n",
    "fov_y = 600    # um\n",
    "fov_t = trange*1e15    # fs\n",
    "\n",
    "plt.figure(figsize=(36,6))\n",
    "# spatial temporal profile\n",
    "plt.subplot(1,6,1)\n",
    "plot_tilt_from_file(fname_incident,label=name0,if_log=if_log)\n",
    "plt.xlim([-fov_t/2,fov_t/2]); plt.ylim([-fov_y/2,fov_y/2])\n",
    "plt.title('incident beam {}fs (rms)'.format(round(pulse_duration*1e15)), fontsize=18)\n",
    "\n",
    "plt.subplot(1,6,2)\n",
    "plot_tilt_from_file(fname_cc1,label=name1,if_log=if_log)\n",
    "plt.xlim([-fov_t/2,fov_t/2]); plt.ylim([-fov_y/2,fov_y/2])\n",
    "\n",
    "plt.subplot(1,6,3)\n",
    "plot_tilt_from_file(fname_l0,label=name2,if_log=if_log)\n",
    "plt.xlim([-fov_t/2,fov_t/2]); plt.ylim([-fov_y/2,fov_y/2])\n",
    "\n",
    "plt.subplot(1,6,4)\n",
    "plot_tilt_from_file(fname_apt,label=name3,if_log=if_log)\n",
    "plt.xlim([-fov_t/2,fov_t/2]); plt.ylim([-fov_y/2,fov_y/2])\n",
    "\n",
    "plt.subplot(1,6,5)\n",
    "plot_tilt_from_file(fname_l1,label=name4,if_log=if_log)\n",
    "plt.xlim([-fov_t/2,fov_t/2]); plt.ylim([-fov_y/2,fov_y/2])\n",
    "\n",
    "plt.subplot(1,6,6)\n",
    "plot_tilt_from_file(fname_cc2,label=name5,if_log=if_log)\n",
    "plt.xlim([-fov_t/2,fov_t/2]); plt.ylim([-fov_y/2,fov_y/2])\n",
    "\n",
    "plt.savefig(dirname_prop+'wavefront_tilt_{}um_slit.png'.format(\n",
    "    round(Apt_width*1e6,2)),transparent=True)\n"
   ]
  },
  {
   "cell_type": "raw",
   "metadata": {},
   "source": [
    "''' structure everywhere (log) '''\n",
    "if_log = 1\n",
    "\n",
    "plt.figure(figsize=(36,6))\n",
    "# spatial temporal profile\n",
    "plt.subplot(1,6,1)\n",
    "plot_tilt_from_file(fname_incident,label=name0,if_log=if_log)\n",
    "plt.xlim([-fov_t/2,fov_t/2]); plt.ylim([-fov_y/2,fov_y/2])\n",
    "plt.title('incident beam {}fs (rms)'.format(round(pulse_duration*1e15)), fontsize=18)\n",
    "\n",
    "plt.subplot(1,6,2)\n",
    "plot_tilt_from_file(fname_cc1,label=name1,if_log=if_log)\n",
    "plt.xlim([-fov_t/2,fov_t/2]); plt.ylim([-fov_y/2,fov_y/2])\n",
    "\n",
    "plt.subplot(1,6,3)\n",
    "plot_tilt_from_file(fname_l0,label=name2,if_log=if_log)\n",
    "plt.xlim([-fov_t/2,fov_t/2]); plt.ylim([-fov_y/2,fov_y/2])\n",
    "\n",
    "plt.subplot(1,6,4)\n",
    "plot_tilt_from_file(fname_apt,label=name3,if_log=if_log)\n",
    "plt.xlim([-fov_t/2,fov_t/2]); plt.ylim([-fov_y/2,fov_y/2])\n",
    "\n",
    "plt.subplot(1,6,5)\n",
    "plot_tilt_from_file(fname_l1,label=name4,if_log=if_log)\n",
    "plt.xlim([-fov_t/2,fov_t/2]); plt.ylim([-fov_y/2,fov_y/2])\n",
    "\n",
    "plt.subplot(1,6,6)\n",
    "plot_tilt_from_file(fname_cc2,label=name5,if_log=if_log)\n",
    "plt.xlim([-fov_t/2,fov_t/2]); plt.ylim([-fov_y/2,fov_y/2])\n",
    "\n",
    "plt.savefig(dirname_prop+'wavefront_tilt_{}um_slit_log.png'.format(\n",
    "    round(Apt_width*1e6,2)),transparent=True)\n"
   ]
  },
  {
   "cell_type": "raw",
   "metadata": {},
   "source": [
    "''' spatial spectrum everywhere '''\n",
    "if_log = 0\n",
    "aw, axis_ev, int_ev = get_spectra_from_file(fname_incident)\n",
    "\n",
    "eRange = axis_ev.max()-axis_ev.min()\n",
    "eMin = axis_ev[aw.min()]-eRange/20\n",
    "eMax = axis_ev.max()-(eMin-axis_ev.min())\n",
    "\n",
    "plt.figure(figsize=(36,6))\n",
    "plt.subplot(1,6,1)\n",
    "plot_tilt_freq_from_file(fname_incident,label=name0,if_log=if_log)\n",
    "plt.xlim([eMin, eMax]); plt.ylim([-fov_y/2,fov_y/2])\n",
    "\n",
    "plt.subplot(1,6,2)\n",
    "plot_tilt_freq_from_file(fname_cc1,label=name1,if_log=if_log)\n",
    "plt.xlim([eMin, eMax]); plt.ylim([-fov_y/2,fov_y/2])\n",
    "\n",
    "plt.subplot(1,6,3)\n",
    "plot_tilt_freq_from_file(fname_l0,label=name2,if_log=if_log)\n",
    "plt.xlim([eMin, eMax]); plt.ylim([-fov_y/2,fov_y/2])\n",
    "\n",
    "plt.subplot(1,6,4)\n",
    "plot_tilt_freq_from_file(fname_apt,label=name3,if_log=if_log)\n",
    "plt.xlim([eMin, eMax]); plt.ylim([-fov_y/2,fov_y/2])\n",
    "\n",
    "plt.subplot(1,6,5)\n",
    "plot_tilt_freq_from_file(fname_l1,label=name4,if_log=if_log)\n",
    "plt.xlim([eMin, eMax]); plt.ylim([-fov_y/2,fov_y/2])\n",
    "\n",
    "plt.subplot(1,6,6)\n",
    "plot_tilt_freq_from_file(fname_cc2,label=name5,if_log=if_log)\n",
    "plt.xlim([eMin, eMax]); plt.ylim([-fov_y/2,fov_y/2])\n",
    "\n",
    "plt.savefig(dirname_prop+'spatial_spectrum_{}um_slit.png'.format(\n",
    "    round(Apt_width*1e6,2)),transparent=True)\n"
   ]
  },
  {
   "cell_type": "raw",
   "metadata": {},
   "source": [
    "''' spectra everywhere '''\n",
    "plt.figure(figsize=(6,6))\n",
    "aw, evI, intIs = get_spectra_from_file(fname_incident)\n",
    "plot_spectra(aw, evI, intIs, 'C1', label=name0)\n",
    "\n",
    "_, evCC1, intCC1s = get_spectra_from_file(fname_cc1)\n",
    "plot_spectra(aw,evCC1,intCC1s,'C2',label=name1)\n",
    "\n",
    "_, evL0, intL0s = get_spectra_from_file(fname_l0)\n",
    "plot_spectra(aw,evL0,intL0s,'C3',label=name2)\n",
    "\n",
    "_, evApt, intApts = get_spectra_from_file(fname_apt)\n",
    "plot_spectra(aw,evApt,intApts,'C4',label=name3)\n",
    "\n",
    "_, evL1, intL1s = get_spectra_from_file(fname_l1)\n",
    "plot_spectra(aw,evL1,intL1s,'C5',label=name4)\n",
    "\n",
    "_, evCC2, intCC2s = get_spectra_from_file(fname_cc2)\n",
    "plot_spectra(aw,evCC2,intCC2s,'C6',label=name5)\n",
    "plt.xlim([eMin, eMax])\n",
    "\n",
    "plt.savefig(dirname_prop+'spectrum_{}um_slit.png'.format(\n",
    "    round(Apt_width*1e6,2)), transparent=True)\n"
   ]
  },
  {
   "cell_type": "markdown",
   "metadata": {},
   "source": [
    "### Quantifying monochromator performance\n",
    "\n",
    "### 1. spectral intensity\n",
    "    ratio of output spectral intensity after each OE and the incident spectral intensity."
   ]
  },
  {
   "cell_type": "code",
   "execution_count": 347,
   "metadata": {},
   "outputs": [
    {
     "data": {
      "text/plain": [
       "'\\nThe bandwidth should only change after each pair of crystals as shown below.\\n    top: bandwidth = intensity_out/intensity_in\\n    bottom: bandwidth = bandwidth/bandwidth.max()\\nQuestion:\\n    Should I normalize the spectrum of each before division?\\n    i.e.\\n        intensity_out /= intensity_out.max()\\n        intensity_in /= intensity_in.max()\\n\\n'"
      ]
     },
     "execution_count": 347,
     "metadata": {},
     "output_type": "execute_result"
    },
    {
     "data": {
      "image/png": "[encoded data removed]",
      "text/plain": [
       "<Figure size 432x432 with 1 Axes>"
      ]
     },
     "metadata": {
      "needs_background": "light"
     },
     "output_type": "display_data"
    },
    {
     "data": {
      "image/png": "[encoded data removed]",
      "text/plain": [
       "<Figure size 432x432 with 1 Axes>"
      ]
     },
     "metadata": {
      "needs_background": "light"
     },
     "output_type": "display_data"
    }
   ],
   "source": [
    "''' spectral intensity '''\n",
    "# per OE\n",
    "if_norm = 0\n",
    "plt.figure(figsize=(6,6))\n",
    "plot_spectra(aw, evI, intIs, 'C0', label='incident spectrum')\n",
    "plot_spectral_response(aw, evI, intIs, intCC1s, 'C1', label=name1, if_norm=if_norm)\n",
    "plot_spectral_response(aw, evI, intIs, intL0s, 'C2.', label=name2, if_norm=if_norm)\n",
    "plot_spectral_response(aw, evI, intIs, intApts, 'C3.', label=name3, if_norm=if_norm)\n",
    "plot_spectral_response(aw, evI, intIs, intL1s, 'C4.', label=name4, if_norm=if_norm)\n",
    "plot_spectral_response(aw, evI, intIs, intCC2s, 'C5', label=name5, if_norm=if_norm)\n",
    "plt.xlim([eMin, eMax])\n",
    "plt.title('bandwidth after each OE')\n",
    "plt.legend()\n",
    "\n",
    "plt.savefig(dirname_prop+'bandwidth_{}um_slit.png'.format(\n",
    "    round(Apt_width*1e6,2)), transparent=True)\n"
   ]
  },
  {
   "cell_type": "markdown",
   "metadata": {},
   "source": [
    "### 2. resolution limit\n",
    "\n",
    "    diffraction limit divided by the full width of beam at focal plane\n",
    "$$lim_{eV} = \\frac{d_{lim}}{d_{beam}}range_{eV} $$"
   ]
  },
  {
   "cell_type": "code",
   "execution_count": 348,
   "metadata": {},
   "outputs": [
    {
     "name": "stdout",
     "output_type": "stream",
     "text": [
      "diffraction limit 0.055 um\n",
      "resolution limit 22.76meV\n",
      "sampling resolution 4.14meV\n"
     ]
    },
    {
     "data": {
      "text/plain": [
       "'\\nNote:\\n    instead of the total width at focal plane, I should probably calculate \\n    the position of the focused \"fringes\" of the meaningful photon energy min and max,\\n    then subtract the two positions to get the real \"d_beam\" of the device.\\n    However, the eV range in the spatial spectrum plot is very limited.\\n        -> need to check the log-scale and see if enough intensity is registered.\\n'"
      ]
     },
     "execution_count": 348,
     "metadata": {},
     "output_type": "execute_result"
    },
    {
     "data": {
      "image/png": "[encoded data removed]",
      "text/plain": [
       "<Figure size 432x288 with 1 Axes>"
      ]
     },
     "metadata": {
      "needs_background": "light"
     },
     "output_type": "display_data"
    }
   ],
   "source": [
    "''' resolution limit '''\n",
    "if_log = 0\n",
    "if_norm = 1\n",
    "plt.figure()\n",
    "plot_lineout_from_file(fname_incident,'C0',name0,fov_y,if_log,if_norm)\n",
    "plot_lineout_from_file(fname_apt,'C3',name3,fov_y,if_log,if_norm)\n",
    "\n",
    "# beam width at focal plane\n",
    "axis, lineout, ori = get_lineout_from_file(fname_apt)\n",
    "irange = np.argwhere(lineout>=lineout.max()*0.01)\n",
    "width = np.abs(axis[irange.min()]-axis[irange.max()])\n",
    "plt.plot(axis[irange],(lineout/lineout.sum())[irange],'r.',label='{} um'.format(round(width,2)))\n",
    "\n",
    "# total energy range at slit\n",
    "range_ev = np.abs(evApt[aw.min()]-evApt[aw.max()])\n",
    "lim_ev = dlim*1e6/width * range_ev\n",
    "plt.title('resolution limit {}meV'.format(\n",
    "    round(lim_ev*1e3,2)), fontsize=18)\n",
    "\n",
    "plt.savefig(dirname_prop+'resolution_limit_{}um_slit.png'.format(\n",
    "    round(Apt_width*1e6,2)), transparent=True)\n",
    "\n",
    "print('diffraction limit {} um'.format(round(dlim*1e6,3)))\n",
    "print('resolution limit {}meV'.format(round(lim_ev*1e3,2)))\n",
    "print('sampling resolution {}meV'.format(round(dev*1e3,2)))\n",
    "\n",
    "'''\n",
    "Note:\n",
    "    instead of the total width at focal plane, I should probably calculate \n",
    "    the position of the focused \"fringes\" of the meaningful photon energy min and max,\n",
    "    then subtract the two positions to get the real \"d_beam\" of the device.\n",
    "    However, the eV range in the spatial spectrum plot is very limited.\n",
    "        -> need to check the log-scale and see if enough intensity is registered.\n",
    "'''"
   ]
  },
  {
   "cell_type": "markdown",
   "metadata": {},
   "source": [
    "### 3. throughput\n",
    "\n",
    "    total transmitted power at each OE"
   ]
  },
  {
   "cell_type": "code",
   "execution_count": 351,
   "metadata": {
    "scrolled": true
   },
   "outputs": [
    {
     "name": "stdout",
     "output_type": "stream",
     "text": [
      "through put at \n",
      "cc1: 90.27%, \n",
      "lens0: 90.22%, \n",
      "apt: 90.22%, \n",
      "lens1: 90.17%, \n",
      "cc2: 81.39%\n"
     ]
    },
    {
     "data": {
      "text/plain": [
       "'\\nNote:\\n    the total power at each OE is calcualted as the square of lineout.sum(),\\n    and the throughput is power_OE / power_incident\\n\\n'"
      ]
     },
     "execution_count": 351,
     "metadata": {},
     "output_type": "execute_result"
    }
   ],
   "source": [
    "''' throughput '''\n",
    "throughput = np.asarray([\n",
    "    get_throughput_from_file(fname_incident, fname_cc1),\n",
    "    get_throughput_from_file(fname_incident, fname_l0),\n",
    "    get_throughput_from_file(fname_incident, fname_apt),\n",
    "    get_throughput_from_file(fname_incident, fname_l1),\n",
    "    get_throughput_from_file(fname_incident, fname_cc2)\n",
    "    ])\n",
    "\n",
    "np.savetxt(dirname_prop+'throughput_{}um_slit.txt'.format(\n",
    "    round(Apt_width*1e6,2)), throughput, delimiter=',')\n",
    "\n",
    "print('through put at \\n{}: {}%, \\n{}: {}%, \\n{}: {}%, \\n{}: {}%, \\n{}: {}%'.format(\n",
    "    name1, round(100*throughput[0],2),\n",
    "    name2, round(100*throughput[1],2),\n",
    "    name3, round(100*throughput[2],2),\n",
    "    name4, round(100*throughput[3],2),\n",
    "    name5, round(100*throughput[4],2)\n",
    "    ))\n",
    "\n",
    "'''\n",
    "Note:\n",
    "    the total power at each OE is calcualted as the square of lineout.sum(),\n",
    "    and the throughput is power_OE / power_incident\n",
    "\n",
    "'''"
   ]
  },
  {
   "cell_type": "raw",
   "metadata": {},
   "source": [
    "# make a plot when:\n",
    "    1. input plot is broader than mono bandwidth\n",
    "    x: slit width\n",
    "    y: bandwidth after everything (width of spectrum after cc2)\n",
    "\n",
    "    2. \n",
    "    y: intensity after everything\n",
    "        \n",
    "    3. \n",
    "    y: spectral brightness transmission \n",
    "        intensity transmission at different photon energy (average of brown curve unnormalized)\n",
    "\n",
    "# if slit is smaller than diffraction limit"
   ]
  },
  {
   "cell_type": "code",
   "execution_count": null,
   "metadata": {},
   "outputs": [],
   "source": []
  }
 ],
 "metadata": {
  "kernelspec": {
   "display_name": "Python 3",
   "language": "python",
   "name": "python3"
  },
  "language_info": {
   "codemirror_mode": {
    "name": "ipython",
    "version": 3
   },
   "file_extension": ".py",
   "mimetype": "text/x-python",
   "name": "python",
   "nbconvert_exporter": "python",
   "pygments_lexer": "ipython3",
   "version": "3.6.10"
  }
 },
 "nbformat": 4,
 "nbformat_minor": 4
}
