{
 "cells": [
  {
   "cell_type": "markdown",
   "metadata": {},
   "source": [
    "### Import modules"
   ]
  },
  {
   "cell_type": "code",
   "execution_count": 1,
   "metadata": {},
   "outputs": [],
   "source": [
    "from __future__ import absolute_import\n",
    "from __future__ import division\n",
    "from __future__ import print_function\n",
    "from __future__ import unicode_literals\n",
    "\n",
    "%matplotlib inline\n",
    "import sys\n",
    "sys.path.insert(0,r\"C:\\Users\\nanw0\\GoogleDrive\\SLAC\\SLAC-Diling\\8. 20 Winter\\Beam_propagation\\WPG\\WPG-develop\")\n",
    "\n",
    "%load_ext autoreload"
   ]
  },
  {
   "cell_type": "code",
   "execution_count": 2,
   "metadata": {},
   "outputs": [],
   "source": [
    "#Importing necessary modules:\n",
    "import os\n",
    "import sys\n",
    "import copy\n",
    "\n",
    "sys.path.insert(0,os.path.join('..','..'))\n",
    "#sys.path.insert('../..')\n",
    "\n",
    "import time\n",
    "import numpy as np\n",
    "import pylab as plt\n",
    "\n",
    "# import base wavefront and beamline class\n",
    "from wpg import Wavefront, Beamline\n",
    "\n",
    "# import base OE wrappers\n",
    "from wpg.optical_elements import Aperture, Drift, CRL, Empty, Use_PP\n",
    "\n",
    "# Gaussian beam generator\n",
    "from wpg.generators import build_gauss_wavefront\n",
    "\n",
    "#import SRW core functions\n",
    "from wpg.srwlib import srwl, srwl_opt_setup_CRL, SRWLOptD, SRWLOptA, SRWLOptC, SRWLOptT, SRWLOptCryst\n",
    "\n",
    "#import some helpers functions\n",
    "from wpg.wpg_uti_wf import propagate_wavefront, plot_t_wf, get_intensity_on_axis\n",
    "from wpg.wpg_uti_oe import show_transmission\n",
    "\n",
    "# import auxiliar functions\n",
    "from Auxiliary import *"
   ]
  },
  {
   "cell_type": "markdown",
   "metadata": {},
   "source": [
    "### Defining initial wavefront and writing electric field data to h5-file\n"
   ]
  },
  {
   "cell_type": "code",
   "execution_count": 3,
   "metadata": {
    "scrolled": false
   },
   "outputs": [
    {
     "name": "stdout",
     "output_type": "stream",
     "text": [
      "*****defining initial wavefront and writing electric field data to h5-file...\n",
      "calculating beam fwhm\n",
      "done in 0.0s, sigX, waist_fwhm [um], far field theta_fwhms [urad]: 11.499788231945866, 27.079931842197144,2.9970290603902483\n",
      "loading incident wavefront\n",
      "incident wavefront doesn't exist\n",
      "generating incident wavefront\n",
      "saving incident wavefront\n",
      "finished in 5.45s\n",
      "number of meaningful slices: 14\n",
      "6740.64442020375 6743.310393803042\n"
     ]
    },
    {
     "data": {
      "text/plain": [
       "<wpg.srw.srwlib.SRWLWfr at 0x194ef56e4e0>"
      ]
     },
     "execution_count": 3,
     "metadata": {},
     "output_type": "execute_result"
    },
    {
     "data": {
      "image/png": "[encoded data removed]",
      "text/plain": [
       "<Figure size 432x288 with 1 Axes>"
      ]
     },
     "metadata": {
      "needs_background": "light"
     },
     "output_type": "display_data"
    },
    {
     "data": {
      "image/png": "[encoded data removed]",
      "text/plain": [
       "<Figure size 432x288 with 1 Axes>"
      ]
     },
     "metadata": {
      "needs_background": "light"
     },
     "output_type": "display_data"
    }
   ],
   "source": [
    "print('*****defining initial wavefront and writing electric field data to h5-file...')\n",
    "strDataFolderName = 'WPG_output/temporal/' # output data sub-folder name\n",
    "if not os.path.exists(strDataFolderName):\n",
    "    mkdir_p(strDataFolderName)\n",
    "\n",
    "ekev = 6.742 # Energy [keV]\n",
    "thetaOM = 2.5e-3       # @check!\n",
    "\n",
    "# e-bunch charge, [nC]; total pulse energy, J\n",
    "#qnC = 0.02;pulse_duration = 1.7e-15;pulseEnergy = 0.08e-3\n",
    "#coh_time = 0.24e-15\n",
    "\n",
    "qnC = 0.1; # e-bunch charge, [nC]\n",
    "#pulse_duration = 9.e-15;\n",
    "pulse_duration = 3.e-15;\n",
    "pulseEnergy = 0.5e-3; # total pulse energy, J\n",
    "coh_time = pulse_duration\n",
    "\n",
    "''' distance to first OE '''\n",
    "z1 = 235.0\n",
    "tstart = time.time()\n",
    "print('calculating beam fwhm')\n",
    "theta_fwhm = calculate_theta_fwhm_cdr(ekev,qnC)\n",
    "k = 2*np.sqrt(2*np.log(2))\n",
    "sigX = 12.4e-10*k/(ekev*4*np.pi*theta_fwhm)\n",
    "print('done in {}s, sigX, waist_fwhm [um], far field theta_fwhms [urad]: {}, {},{}'.format(\n",
    "                            round(time.time()-tstart,2),sigX*1e6, sigX*k*1e6, theta_fwhm*1e6)\n",
    "      )\n",
    "#define limits\n",
    "range_xy = theta_fwhm/k*z1*7. # sigma*7 beam size\n",
    "#range_xy = range_xy*2\n",
    "\n",
    "''' input dimensions '''\n",
    "npoints=500\n",
    "pulseRange = 30\n",
    "#nz = int(np.floor(pulseRange*pulse_duration/coh_time))\n",
    "nz = 60\n",
    "\n",
    "''' directories and filenames '''\n",
    "dirname_duration = strDataFolderName+'{}fs_beam_nz={}_pR={}/'.format(round(pulse_duration*1e15,1),nz,pulseRange)\n",
    "if not os.path.exists(dirname_duration):\n",
    "    mkdir_p(dirname_duration)\n",
    "\n",
    "dirname_input = dirname_duration+'incident_beam/'\n",
    "if not os.path.exists(dirname_input):\n",
    "        mkdir_p(dirname_input)\n",
    "\n",
    "fname_incident = dirname_input + 'incident_wavefront.h5'\n",
    "\n",
    "\n",
    "''' load or generate '''\n",
    "if_load_input = 1\n",
    "tstart = time.time()\n",
    "if if_load_input ==1:\n",
    "    print('loading incident wavefront')\n",
    "    mwf = Wavefront()\n",
    "    try:\n",
    "        mwf.load_hdf5(fname_incident)\n",
    "    except:\n",
    "        if_load_input = 0\n",
    "        print(\"incident wavefront doesn't exist\")\n",
    "\n",
    "if if_load_input != 1:\n",
    "    print('generating incident wavefront')\n",
    "    wfr0 = build_gauss_wavefront(npoints, npoints, nz, ekev, -range_xy/2, range_xy/2,\n",
    "                                    -range_xy/2, range_xy/2 ,pulse_duration, sigX, sigX, z1,\n",
    "                                    pulseEn=pulseEnergy,pulseRange=pulseRange)\n",
    "\n",
    "    mwf = Wavefront(wfr0)\n",
    "    print('saving incident wavefront'.format(round(time.time()-tstart,2)))\n",
    "    mwf.store_hdf5(fname_incident)\n",
    "\n",
    "print('finished in {}s'.format(round(time.time()-tstart,2)))\n",
    "\n",
    "# input spectrum\n",
    "srwl.SetRepresElecField(mwf._srwl_wf, 'f')\n",
    "integral_intensity(mwf,dirname_input)\n",
    "eStart = mwf._srwl_wf.mesh.eStart\n",
    "eFin = mwf._srwl_wf.mesh.eFin\n",
    "print(eStart, eFin)\n",
    "srwl.SetRepresElecField(mwf._srwl_wf, 't')\n"
   ]
  },
  {
   "cell_type": "code",
   "execution_count": null,
   "metadata": {},
   "outputs": [],
   "source": []
  },
  {
   "cell_type": "code",
   "execution_count": null,
   "metadata": {},
   "outputs": [],
   "source": []
  },
  {
   "cell_type": "code",
   "execution_count": null,
   "metadata": {},
   "outputs": [],
   "source": []
  },
  {
   "cell_type": "markdown",
   "metadata": {},
   "source": [
    "### 1. 1 asymmetric reflection beamline\n",
    "\n",
    "List of optical elements:\n",
    "\n",
    "    - asymmetric crystal at 235m from waist\n",
    "    - perfect lens with 3m focal lens at 1m after crystal\n",
    "    - detector at focal plane (239m from waist)"
   ]
  },
  {
   "cell_type": "code",
   "execution_count": 4,
   "metadata": {},
   "outputs": [
    {
     "name": "stdout",
     "output_type": "stream",
     "text": [
      "calculating OPD and transmission\n",
      "done in 0.47s\n"
     ]
    }
   ],
   "source": [
    "%autoreload 2\n",
    "from Optics import *\n",
    "tstart = time.time()\n",
    "''' aperture '''\n",
    "#Apt = Aperture('r','a',50e-6)\n",
    "\n",
    "''' crystal parameters '''\n",
    "d_sp = 3.13557135638           # reflecting plane d-spacing [A]\n",
    "psi0r = -5.11321939903e-05     # real part of 0th Fourier component of crystal polarizability\n",
    "psi0i = 3.58887560736e-06      # imaginary part of \"\"\n",
    "psi_hr = -2.71341902391e-05    # real part of Hth Fourier component\n",
    "psi_hi = 2.50565837652e-06     # imaginary part of \"\"\n",
    "psi_hbr = -2.71341902391e-05   # real part of -Hth Fourier component\n",
    "psi_hbi = 2.50565837652e-06    # imaginary part of \"\"\n",
    "tc = 0.01                      # crystal thickness\n",
    "ang_as = -np.deg2rad(5)        # asymmetric angle\n",
    "uc = 1                         # use case: 1 (Bragg reflection); 2 (Bragg transmission)\n",
    "#ang = 0.83257236543\n",
    "#amp_coef = 1.0\n",
    "\n",
    "OE_Crystal = SRWLOptCryst(d_sp,psi0r,psi0i,psi_hr,psi_hi,psi_hbr,psi_hbi,tc,ang_as,_uc=uc)\n",
    "\n",
    "''' crystal orientation '''\n",
    "ang_dif_pl = 0                # diffraction plane angle: 0 (vertical); pi/2 (horizontal)\n",
    "\n",
    "# outward normal vector to crystal surface\n",
    "nvx, nvy, nvz = OE_Crystal.find_orient(ekev*1e3,ang_dif_pl)[0][2]\n",
    "\n",
    "# central tangential vector\n",
    "tvx, tvy, _ = OE_Crystal.find_orient(ekev*1e3,ang_dif_pl)[0][0]\n",
    "\n",
    "OE_Crystal.set_orient(nvx,nvy,nvz,tvx,tvy)\n",
    "\n",
    "''' lens parameter '''\n",
    "n = 1 - 5.89e-6           # material refractive index\n",
    "d_abs = 788e-6        # material absorption depth\n",
    "\n",
    "nx = npoints\n",
    "ny = npoints\n",
    "Lens_width = 5e-3\n",
    "f_lens = 3.0\n",
    "\n",
    "print('calculating OPD and transmission')\n",
    "Lens_Apt = SRWLOptA('r','a',Lens_width,Lens_width)\n",
    "Lens_Tr = SRWLOptT(nx,ny,Lens_width,Lens_width,_Fx=f_lens,_Fy=f_lens,_x=0,_y=0,_eStart=eStart,_eFin=eFin)\n",
    "\n",
    "Lens_x = np.linspace(-Lens_width/2,Lens_width/2,nx)\n",
    "Lens_y = np.linspace(-Lens_width/2,Lens_width/2,ny)\n",
    "Lens_x, Lens_y = np.meshgrid(Lens_x,Lens_y)\n",
    "\n",
    "Lens_z = Perfect_lens(Lens_x,Lens_y,n,f_lens)\n",
    "\n",
    "Calc_OPD_and_AmpTr(Lens_Tr, Lens_z, n,d_abs)\n",
    "\n",
    "print('done in {}s'.format(round(time.time()-tstart,2)))"
   ]
  },
  {
   "cell_type": "markdown",
   "metadata": {},
   "source": [
    "### 1. 2 propagation of reflected beam\n"
   ]
  },
  {
   "cell_type": "code",
   "execution_count": 5,
   "metadata": {},
   "outputs": [
    {
     "name": "stdout",
     "output_type": "stream",
     "text": [
      "distances: [2.996 2.998 3.    3.002 3.004]\n",
      "defining asymmetric reflection beamline\n",
      "propagating reflected beam\n",
      "propagation lasted: 0.1 min\n",
      "reflected wavefront saved in 3.96s\n"
     ]
    }
   ],
   "source": [
    "''' Propagation distance '''\n",
    "z2 = 1\n",
    "z3 = f_lens\n",
    "\n",
    "dirname_prop = dirname_duration+'propagation_{}m/'.format(z2)\n",
    "if not os.path.exists(dirname_prop):\n",
    "    mkdir_p(dirname_prop)\n",
    "\n",
    "''' temporal slices for 3D beam '''\n",
    "nslice_t = 5\n",
    "delta_t = 2e-3     # temporal slice spacing [m]\n",
    "z3_list = (np.arange(nslice_t)-(nslice_t-1)/2)*delta_t + z3\n",
    "print('distances: '+ str(z3_list))\n",
    "\n",
    "''' reflected beam '''\n",
    "# bl for asymmetric reflection\n",
    "print('defining asymmetric reflection beamline')\n",
    "optBL0 = Beamline()\n",
    "optBL0.append(OE_Crystal, Use_PP(semi_analytical_treatment=0))\n",
    "optBL0.append(Drift(z2),  Use_PP(semi_analytical_treatment=0))\n",
    "\n",
    "# initialize reflected wavefront\n",
    "mwf_reflected = Wavefront()\n",
    "mwf_reflected.load_hdf5(fname_incident)\n",
    "\n",
    "# propagate beam\n",
    "startTime = time.time()\n",
    "print('propagating reflected beam')\n",
    "srwl.SetRepresElecField(mwf_reflected._srwl_wf, 'f') # <---- switch to frequency domain\n",
    "optBL0.propagate(mwf_reflected)\n",
    "srwl.SetRepresElecField(mwf_reflected._srwl_wf, 't')\n",
    "print('propagation lasted: {} min'.format(round((time.time() - startTime) / 6.) / 10.))\n",
    "\n",
    "# save reflected field\n",
    "tstart = time.time()\n",
    "fname_reflected = dirname_prop + 'reflected_wavefront.h5'\n",
    "mwf_reflected.store_hdf5(fname_reflected)\n",
    "print('reflected wavefront saved in {}s'.format(round(time.time()-tstart,2)))\n",
    "\n"
   ]
  },
  {
   "cell_type": "markdown",
   "metadata": {},
   "source": [
    "### 1. 3 propagation of first slice of focused beam\n"
   ]
  },
  {
   "cell_type": "code",
   "execution_count": 6,
   "metadata": {},
   "outputs": [
    {
     "name": "stdout",
     "output_type": "stream",
     "text": [
      "defining focusing beamline\n",
      "propagating first tslice of focused beam\n",
      "propagation lasted: 0.1 min\n",
      "first slice of focused wavefront saved in 4.39s\n"
     ]
    }
   ],
   "source": [
    "''' focused beam '''\n",
    "# bl for focusing to the first temporal slice\n",
    "print('defining focusing beamline')\n",
    "optBL1 = Beamline()\n",
    "#optBL1.append(OE_Crystal, Use_PP(semi_analytical_treatment=0))\n",
    "#optBL1.append(Drift(z2),  Use_PP(semi_analytical_treatment=0))\n",
    "optBL1.append(Lens_Apt,   Use_PP(semi_analytical_treatment=0))\n",
    "optBL1.append(Lens_Tr,    Use_PP(semi_analytical_treatment=0))\n",
    "optBL1.append(Drift(z3_list[0]),  Use_PP(semi_analytical_treatment=0))\n",
    "\n",
    "# bl for propagation between temporal slices\n",
    "optBL2 = Beamline()\n",
    "optBL2.append(Drift(delta_t),  Use_PP(semi_analytical_treatment=0))\n",
    "\n",
    "# initialize focused wavefront\n",
    "mwf_focused = Wavefront()\n",
    "mwf_focused.load_hdf5(fname_reflected)\n",
    "\n",
    "# propagate beam\n",
    "startTime = time.time()\n",
    "print('propagating first tslice of focused beam')\n",
    "srwl.SetRepresElecField(mwf_focused._srwl_wf, 'f') # <---- switch to frequency domain\n",
    "optBL1.propagate(mwf_focused)\n",
    "srwl.SetRepresElecField(mwf_focused._srwl_wf, 't')\n",
    "\n",
    "print('propagation lasted: {} min'.format(round((time.time() - startTime) / 6.) / 10.))\n",
    "\n",
    "# save focused field\n",
    "tstart = time.time()\n",
    "fname_focused = dirname_prop+'focuesd_wavefront_slice_0.h5'\n",
    "mwf_focused.store_hdf5(fname_focused)\n",
    "print('first slice of focused wavefront saved in {}s'.format(round(time.time()-tstart,2)))\n",
    "\n"
   ]
  },
  {
   "cell_type": "code",
   "execution_count": null,
   "metadata": {},
   "outputs": [],
   "source": []
  },
  {
   "cell_type": "markdown",
   "metadata": {},
   "source": [
    "### 1. 4 propagation of temporal slices"
   ]
  },
  {
   "cell_type": "code",
   "execution_count": 7,
   "metadata": {},
   "outputs": [
    {
     "name": "stdout",
     "output_type": "stream",
     "text": [
      "propagating between tslices of focused beam and plotting integrated intensity\n",
      "WPG_output/temporal/3.0fs_beam_nz=60_pR=30/propagation_1m/focuesd_wavefront_slice_0.h5\n",
      "R-space\n",
      "WPG_output/temporal/3.0fs_beam_nz=60_pR=30/propagation_1m/focuesd_wavefront_slice_1.h5\n",
      "R-space\n",
      "WPG_output/temporal/3.0fs_beam_nz=60_pR=30/propagation_1m/focuesd_wavefront_slice_2.h5\n",
      "R-space\n",
      "WPG_output/temporal/3.0fs_beam_nz=60_pR=30/propagation_1m/focuesd_wavefront_slice_3.h5\n",
      "R-space\n",
      "WPG_output/temporal/3.0fs_beam_nz=60_pR=30/propagation_1m/focuesd_wavefront_slice_4.h5\n",
      "R-space\n",
      "done\n",
      "propagation lasted: 34s\n"
     ]
    }
   ],
   "source": [
    "''' propagate temporal slices '''\n",
    "img_holder = np.zeros((nslice_t,npoints,npoints))\n",
    "lim_holder = np.zeros((nslice_t,4))\n",
    "tstart = time.time()\n",
    "print('propagating between tslices of focused beam and plotting integrated intensity')\n",
    "for islice in range(nslice_t):\n",
    "    mwf_focused = Wavefront()\n",
    "    if islice == 0:\n",
    "        mwf_focused.load_hdf5(fname_focused)\n",
    "    else:\n",
    "        mwf_focused.load_hdf5(fname_focused)\n",
    "        srwl.SetRepresElecField(mwf_focused._srwl_wf, 'f')\n",
    "        optBL2.propagate(mwf_focused)\n",
    "        srwl.SetRepresElecField(mwf_focused._srwl_wf, 't')\n",
    "        fname_focused = dirname_prop+'focuesd_wavefront_slice_'+str(islice)+'.h5'\n",
    "        mwf_focused.store_hdf5(fname_focused)\n",
    "    print(fname_focused)\n",
    "    img_holder[islice] = mwf_focused.get_intensity().sum(axis=-1)\n",
    "    lim_holder[islice] = mwf_focused.get_limits()\n",
    "print('done')\n",
    "print('propagation lasted: {}s'.format(round(time.time() - tstart),2))"
   ]
  },
  {
   "cell_type": "code",
   "execution_count": 8,
   "metadata": {},
   "outputs": [
    {
     "name": "stdout",
     "output_type": "stream",
     "text": [
      "plotting focused beam\n",
      "plotting focused beam\n",
      "plotting focused beam\n",
      "plotting focused beam\n",
      "plotting focused beam\n",
      "plots saved\n"
     ]
    }
   ],
   "source": [
    "''' plot temporal slices '''\n",
    "dirname_tslice = dirname_prop+'tslices/'\n",
    "if not os.path.exists(dirname_tslice):\n",
    "    mkdir_p(dirname_tslice)\n",
    "\n",
    "cmin = np.min(img_holder)\n",
    "cmax = np.max(img_holder)\n",
    "plt.figure()\n",
    "for islice in range(nslice_t):\n",
    "    img = img_holder[islice]\n",
    "    lim = lim_holder[islice]\n",
    "    # plot integrated intensity\n",
    "    [xmin, xmax, ymin, ymax] = lim\n",
    "    d_fov = 200e-6\n",
    "    range_max = np.min(np.abs([xmax-xmin, ymax-ymin]))\n",
    "    if d_fov>= range_max:\n",
    "        d_fov == range_max\n",
    "\n",
    "    roi_ratio_x = np.abs(d_fov/(xmax-xmin))\n",
    "    roi_ratio_y = np.abs(d_fov/(ymax-ymin))\n",
    "    roixi = int(nx*(1-roi_ratio_x)/2); roixf = int(nx*(1+roi_ratio_x)/2)\n",
    "    roiyi = int(ny*(1-roi_ratio_y)/2); roiyf = int(ny*(1+roi_ratio_y)/2)\n",
    "\n",
    "    xlimi = xmin*roi_ratio_x; xlimf = xmax*roi_ratio_x\n",
    "    ylimi = ymin*roi_ratio_y; ylimf = ymax*roi_ratio_y\n",
    "\n",
    "    print('plotting focused beam')\n",
    "    plt.figure(figsize=(16,6))\n",
    "    plt.subplot(1,2,1)\n",
    "    plt.imshow(img[roixi:roixf,roiyi:roiyf], cmap='jet', clim=[cmin,cmax],\n",
    "              extent = [xlimi*1e6, xlimf*1e6, ylimi*1e6, ylimf*1e6])\n",
    "    plt.colorbar()\n",
    "    plt.title('focused beam',fontsize=18)\n",
    "    plt.xlabel(r'x ($\\mu$m)',fontsize=18)\n",
    "    plt.ylabel(r'y ($\\mu$m)',fontsize=18)\n",
    "\n",
    "    plt.subplot(1,2,2)\n",
    "    plt.imshow(np.log(img)[roixi:roixf,roiyi:roiyf], cmap='jet',clim=[np.log(cmin),np.log(cmax)],\n",
    "              extent = [xlimi*1e6, xlimf*1e6, ylimi*1e6, ylimf*1e6])\n",
    "    plt.colorbar()\n",
    "    plt.title('log, z={}, f={}'.format(z3_list[islice],z3),fontsize=18)\n",
    "    plt.xlabel(r'x ($\\mu$m)',fontsize=18)\n",
    "    plt.ylabel(r'y ($\\mu$m)',fontsize=18)\n",
    "    plt.savefig(dirname_tslice+'tslice_{}.png'.format(islice),transparent = True)\n",
    "    plt.clf()\n",
    "plt.close('all')\n",
    "print('plots saved')"
   ]
  },
  {
   "cell_type": "code",
   "execution_count": 9,
   "metadata": {},
   "outputs": [
    {
     "name": "stdout",
     "output_type": "stream",
     "text": [
      "60 slices\n",
      "R-space\n"
     ]
    }
   ],
   "source": [
    "''' plot incident beam '''\n",
    "import imageio\n",
    "\n",
    "print('{} slices'.format(nz))\n",
    "\n",
    "        \n",
    "# plot incident beam\n",
    "cmin = (mwf.get_intensity()).min()\n",
    "cmax = (mwf.get_intensity()).max()\n",
    "\n",
    "[xmin, xmax, ymin, ymax] = mwf.get_limits()\n",
    "intensity_all = mwf.get_intensity().sum()\n",
    "\n",
    "plt.figure()\n",
    "for islice in range(nz):\n",
    "    intensity_slice = mwf.get_intensity(slice_number=islice)\n",
    "    plt.imshow(intensity_slice,cmap='jet',clim=(cmin,cmax),\n",
    "              extent = [xmin*1e3, xmax*1e3, ymin*1e3, ymax*1e3])\n",
    "    plt.colorbar()\n",
    "    plt.title('slice {}/{}, intensity {}%'.format(islice,nz-1,np.floor(100*intensity_slice.sum()/intensity_all)))\n",
    "    plt.xlabel('x (mm)')\n",
    "    plt.ylabel('y (mm)')\n",
    "    filename = dirname_input+'slice{}.png'.format(islice)\n",
    "    plt.savefig(filename)\n",
    "    plt.clf()\n",
    "plt.close('all')\n",
    "# make gif\n",
    "with imageio.get_writer(dirname_input+'beam.gif', mode='I', duration=0.3) as writer:\n",
    "    for islice in range(nz):\n",
    "        filename = dirname_input+'slice{}.png'.format(islice)\n",
    "        image = imageio.imread(filename)\n",
    "        writer.append_data(image)\n",
    "\n"
   ]
  },
  {
   "cell_type": "code",
   "execution_count": 10,
   "metadata": {},
   "outputs": [
    {
     "name": "stdout",
     "output_type": "stream",
     "text": [
      "number of meaningful slices: 14\n"
     ]
    },
    {
     "data": {
      "text/plain": [
       "<wpg.srw.srwlib.SRWLWfr at 0x19491b85e48>"
      ]
     },
     "execution_count": 10,
     "metadata": {},
     "output_type": "execute_result"
    },
    {
     "data": {
      "image/png": "[encoded data removed]",
      "text/plain": [
       "<Figure size 432x288 with 1 Axes>"
      ]
     },
     "metadata": {
      "needs_background": "light"
     },
     "output_type": "display_data"
    },
    {
     "data": {
      "image/png": "[encoded data removed]",
      "text/plain": [
       "<Figure size 432x288 with 1 Axes>"
      ]
     },
     "metadata": {
      "needs_background": "light"
     },
     "output_type": "display_data"
    }
   ],
   "source": [
    "''' plot reflected spectrum '''\n",
    "t = round(pulse_duration*1e15,1)\n",
    "dirname_temp = \"WPG_output/temporal/\"+str(t)+'fs_beam_nz='+str(nz)+'_pR='+str(pulseRange)+'/propagation_1m/'\n",
    "# make gif\n",
    "with imageio.get_writer(dirname_temp+'tslices/beam.gif', mode='I', duration=0.8) as writer:\n",
    "    for islice in range(nslice_t):\n",
    "        filename = dirname_temp+'tslices/tslice_{}.png'.format(islice)\n",
    "        image = imageio.imread(filename)\n",
    "        writer.append_data(image)\n",
    "\n",
    "# plot reflected beam spectrum\n",
    "mwf_temp = Wavefront()\n",
    "mwf_temp.load_hdf5(dirname_temp+'reflected_wavefront.h5')\n",
    "\n",
    "srwl.SetRepresElecField(mwf_temp._srwl_wf, 'f')\n",
    "integral_intensity(mwf_temp,dirname_temp)\n",
    "srwl.SetRepresElecField(mwf_temp._srwl_wf, 't')"
   ]
  },
  {
   "cell_type": "code",
   "execution_count": 15,
   "metadata": {},
   "outputs": [
    {
     "name": "stdout",
     "output_type": "stream",
     "text": [
      "R-space\n"
     ]
    },
    {
     "data": {
      "text/plain": [
       "Text(0, 0.5, 'y [m]')"
      ]
     },
     "execution_count": 15,
     "metadata": {},
     "output_type": "execute_result"
    },
    {
     "data": {
      "image/png": "[encoded data removed]",
      "text/plain": [
       "<Figure size 432x288 with 2 Axes>"
      ]
     },
     "metadata": {
      "needs_background": "light"
     },
     "output_type": "display_data"
    }
   ],
   "source": [
    "[xmin, xmax, ymin, ymax] = mwf_reflected.get_limits()\n",
    "plt.figure()\n",
    "plt.imshow(mwf_reflected.get_intensity().sum(axis=-1),cmap='jet',\n",
    "          extent = [xmin, xmax,ymin,ymax])\n",
    "plt.colorbar()\n",
    "plt.xlabel('x [m]')\n",
    "plt.ylabel('y [m]')"
   ]
  }
 ],
 "metadata": {
  "kernelspec": {
   "display_name": "Python 3",
   "language": "python",
   "name": "python3"
  },
  "language_info": {
   "codemirror_mode": {
    "name": "ipython",
    "version": 3
   },
   "file_extension": ".py",
   "mimetype": "text/x-python",
   "name": "python",
   "nbconvert_exporter": "python",
   "pygments_lexer": "ipython3",
   "version": "3.6.10"
  }
 },
 "nbformat": 4,
 "nbformat_minor": 4
}
