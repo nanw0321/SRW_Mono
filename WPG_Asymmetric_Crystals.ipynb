{
 "cells": [
  {
   "cell_type": "markdown",
   "metadata": {},
   "source": [
    "### Import modules"
   ]
  },
  {
   "cell_type": "code",
   "execution_count": 24,
   "metadata": {},
   "outputs": [
    {
     "name": "stdout",
     "output_type": "stream",
     "text": [
      "The autoreload extension is already loaded. To reload it, use:\n",
      "  %reload_ext autoreload\n"
     ]
    }
   ],
   "source": [
    "%matplotlib inline\n",
    "import sys\n",
    "sys.path.insert(0,r\"C:\\Users\\nanw0\\GoogleDrive\\SLAC\\SLAC-Diling\\8. 20 Winter\\Beam_propagation\\WPG\\WPG-develop\")\n",
    "\n",
    "%load_ext autoreload"
   ]
  },
  {
   "cell_type": "code",
   "execution_count": 25,
   "metadata": {},
   "outputs": [],
   "source": [
    "from __future__ import absolute_import\n",
    "from __future__ import division\n",
    "from __future__ import print_function\n",
    "from __future__ import unicode_literals\n",
    "\n",
    "#Importing necessary modules:\n",
    "import os\n",
    "import sys\n",
    "import copy\n",
    "\n",
    "sys.path.insert(0,os.path.join('..','..'))\n",
    "#sys.path.insert('../..')\n",
    "\n",
    "import time\n",
    "import numpy as np\n",
    "import pylab as plt\n",
    "\n",
    "# import base wavefront and beamline class\n",
    "from wpg import Wavefront, Beamline\n",
    "\n",
    "# import base OE wrappers\n",
    "from wpg.optical_elements import Aperture, Drift, CRL, Empty, Use_PP\n",
    "\n",
    "# Gaussian beam generator\n",
    "from wpg.generators import build_gauss_wavefront\n",
    "\n",
    "#import SRW core functions\n",
    "from wpg.srwlib import srwl, srwl_opt_setup_CRL, SRWLOptD, SRWLOptA, SRWLOptC, SRWLOptT, SRWLOptCryst\n",
    "\n",
    "\n",
    "#import some helpers functions\n",
    "from wpg.wpg_uti_wf import propagate_wavefront, plot_t_wf\n",
    "from wpg.wpg_uti_oe import show_transmission\n",
    "\n",
    "plt.ion()"
   ]
  },
  {
   "cell_type": "markdown",
   "metadata": {},
   "source": [
    "### Define auxiliary functions"
   ]
  },
  {
   "cell_type": "code",
   "execution_count": 26,
   "metadata": {},
   "outputs": [],
   "source": [
    "def calculate_theta_fwhm_cdr(ekev,qnC):\n",
    "    \"\"\"\n",
    "    Calculate angular divergence using formula from XFEL CDR2011\n",
    "\n",
    "    :param ekev: Energy in keV\n",
    "    :param qnC: e-bunch charge, [nC]\n",
    "    :return: theta_fwhm [units?]\n",
    "    \"\"\"\n",
    "    theta_fwhm = (17.2 - 6.4 * np.sqrt(qnC))*1e-6/ekev**0.85\n",
    "    return theta_fwhm\n",
    "\n",
    "def _save_object(obj, file_name):\n",
    "    \"\"\"\n",
    "    Save any python object to file.\n",
    "\n",
    "    :param: obj : - python objest to be saved\n",
    "    :param: file_name : - output file, wil be overwrite if exists\n",
    "    \"\"\"\n",
    "    with open(file_name,'wb') as f:\n",
    "        pickle.dump(obj, f)\n",
    "\n",
    "def _load_object(file_name):\n",
    "    \"\"\"\n",
    "    Save any python object to file.\n",
    "\n",
    "    :param: file_name : - output file, wil be overwrite if exists\n",
    "    :return: obj : - loaded pthon object\n",
    "    \"\"\"\n",
    "    res = None\n",
    "    with open(file_name,'rb') as f:\n",
    "        res = pickle.load(f)\n",
    "\n",
    "    return res\n",
    "\n",
    "def mkdir_p(path):\n",
    "    \"\"\"\n",
    "    Create directory with subfolders (like Linux mkdir -p)\n",
    "\n",
    "    :param path: Path to be created\n",
    "    \"\"\"\n",
    "    try:\n",
    "        os.makedirs(path)\n",
    "    except OSError as exc: # Python >2.5\n",
    "        if exc.errno == errno.EEXIST and os.path.isdir(path):\n",
    "            pass\n",
    "        else: raise\n"
   ]
  },
  {
   "cell_type": "markdown",
   "metadata": {},
   "source": [
    "### Defining initial wavefront and writing electric field data to h5-file"
   ]
  },
  {
   "cell_type": "code",
   "execution_count": 27,
   "metadata": {
    "scrolled": false
   },
   "outputs": [
    {
     "name": "stdout",
     "output_type": "stream",
     "text": [
      "*****defining initial wavefront and writing electric field data to h5-file...\n",
      "sigX, waist_fwhm [um], far field theta_fwhms [urad]: 11.499788231945866, 27.079931842197144,2.9970290603902483\n",
      "save hdf5: g6_742kev.h5\n",
      "done\n"
     ]
    }
   ],
   "source": [
    "print('*****defining initial wavefront and writing electric field data to h5-file...')\n",
    "strDataFolderName = 'WPG_output/temporal/' # output data sub-folder name\n",
    "if not os.path.exists(strDataFolderName):\n",
    "    mkdir_p(strDataFolderName)\n",
    "\n",
    "ekev = 6.742 # Energy [keV]\n",
    "thetaOM = 2.5e-3       # @check!\n",
    "\n",
    "# e-bunch charge, [nC]; total pulse energy, J\n",
    "#qnC = 0.02;pulse_duration = 1.7e-15;pulseEnergy = 0.08e-3\n",
    "#coh_time = 0.24e-15\n",
    "\n",
    "qnC = 0.1; # e-bunch charge, [nC]\n",
    "#pulse_duration = 9.e-15;\n",
    "pulse_duration = 5.e-15;\n",
    "pulseEnergy = 0.5e-3; # total pulse energy, J\n",
    "coh_time = 0.24e-15\n",
    "\n",
    "''' distance to first OE '''\n",
    "z1 = 235.0\n",
    "\n",
    "theta_fwhm = calculate_theta_fwhm_cdr(ekev,qnC)\n",
    "k = 2*np.sqrt(2*np.log(2))\n",
    "sigX = 12.4e-10*k/(ekev*4*np.pi*theta_fwhm)\n",
    "print('sigX, waist_fwhm [um], far field theta_fwhms [urad]: {}, {},{}'.format(\n",
    "                            sigX*1e6, sigX*k*1e6, theta_fwhm*1e6)\n",
    "      )\n",
    "#define limits\n",
    "range_xy = theta_fwhm/k*z1*7. # sigma*7 beam size\n",
    "\n",
    "''' input dimensions '''\n",
    "npoints=2000\n",
    "nz = int(pulse_duration/coh_time)\n",
    "\n",
    "wfr0 = build_gauss_wavefront(npoints, npoints, nz, ekev, -range_xy/2, range_xy/2,\n",
    "                                -range_xy/2, range_xy/2 ,pulse_duration, sigX, sigX, z1,\n",
    "                                pulseEn=pulseEnergy)\n",
    "\n",
    "mwf = Wavefront(wfr0)\n",
    "ip = np.floor(ekev)\n",
    "frac = np.floor((ekev - ip)*1e3)\n",
    "ename = str(int(ip))+'_'+str(int(frac))+'kev'\n",
    "fname0 = 'g' + ename\n",
    "ifname = os.path.join(strDataFolderName,fname0+'.h5')\n",
    "print('save hdf5: '+fname0+'.h5')\n",
    "mwf.store_hdf5(ifname)\n",
    "print('done')\n",
    "\n",
    "#mwf_backup = mwf"
   ]
  },
  {
   "cell_type": "code",
   "execution_count": 28,
   "metadata": {},
   "outputs": [
    {
     "name": "stdout",
     "output_type": "stream",
     "text": [
      "20 slices\n"
     ]
    }
   ],
   "source": [
    "print('{} slices'.format(mwf.params.Mesh.nSlices))"
   ]
  },
  {
   "cell_type": "code",
   "execution_count": 29,
   "metadata": {},
   "outputs": [
    {
     "name": "stdout",
     "output_type": "stream",
     "text": [
      "R-space\n"
     ]
    },
    {
     "data": {
      "text/plain": [
       "<Figure size 432x288 with 0 Axes>"
      ]
     },
     "metadata": {},
     "output_type": "display_data"
    }
   ],
   "source": [
    "import imageio\n",
    "# plot incident beam\n",
    "cmin = (mwf.get_intensity()).min()\n",
    "cmax = (mwf.get_intensity()).max()\n",
    "\n",
    "[xmin, xmax, ymin, ymax] = mwf.get_limits()\n",
    "intensity_all = mwf.get_intensity().sum()\n",
    "plt.figure()\n",
    "for islice in range(nz):\n",
    "    intensity_slice = mwf.get_intensity(slice_number=islice)\n",
    "    plt.imshow(intensity_slice,cmap='jet',clim=(cmin,cmax),\n",
    "              extent = [xmin*1e3, xmax*1e3, ymin*1e3, ymax*1e3])\n",
    "    plt.colorbar()\n",
    "    plt.title('slice {}/{}, intensity {}%'.format(islice,nz-1,np.floor(100*intensity_slice.sum()/intensity_all)))\n",
    "    plt.xlabel('x (mm)')\n",
    "    plt.ylabel('y (mm)')\n",
    "    dirname = strDataFolderName+'incident_beam_{}fs/'.format(round(pulse_duration*1e15,1))\n",
    "    filename = dirname+'slice{}.png'.format(islice)\n",
    "    if not os.path.exists(dirname):\n",
    "        mkdir_p(dirname)\n",
    "    plt.savefig(filename)\n",
    "    plt.clf()\n",
    "\n",
    "# make gif\n",
    "with imageio.get_writer(dirname+'beam.gif', mode='I', duration=0.3) as writer:\n",
    "    for islice in range(nz):\n",
    "        dirname = strDataFolderName+'incident_beam_{}fs/'.format(round(pulse_duration*1e15,1))\n",
    "        filename = dirname+'slice{}.png'.format(islice)\n",
    "        image = imageio.imread(filename)\n",
    "        writer.append_data(image)\n",
    "\n"
   ]
  },
  {
   "cell_type": "markdown",
   "metadata": {},
   "source": [
    "### Defining optical beamline(s) "
   ]
  },
  {
   "cell_type": "code",
   "execution_count": 39,
   "metadata": {},
   "outputs": [],
   "source": [
    "''' aperture '''\n",
    "Apt = Aperture('r','a',50e-6)"
   ]
  },
  {
   "cell_type": "code",
   "execution_count": 40,
   "metadata": {},
   "outputs": [],
   "source": [
    "''' crystal parameters '''\n",
    "d_sp = 3.13557135638           # reflecting plane d-spacing [A]\n",
    "psi0r = -5.11321939903e-05     # real part of 0th Fourier component of crystal polarizability\n",
    "psi0i = 3.58887560736e-06      # imaginary part of \"\"\n",
    "psi_hr = -2.71341902391e-05    # real part of Hth Fourier component\n",
    "psi_hi = 2.50565837652e-06     # imaginary part of \"\"\n",
    "psi_hbr = -2.71341902391e-05   # real part of -Hth Fourier component\n",
    "psi_hbi = 2.50565837652e-06    # imaginary part of \"\"\n",
    "tc = 0.01                      # crystal thickness\n",
    "ang_as = -np.deg2rad(0)        # asymmetric angle\n",
    "uc = 1                         # use case: 1 (Bragg reflection); 2 (Bragg transmission)\n",
    "#ang = 0.83257236543\n",
    "#amp_coef = 1.0\n",
    "\n",
    "OE_Crystal = SRWLOptCryst(d_sp,psi0r,psi0i,psi_hr,psi_hi,psi_hbr,psi_hbi,tc,ang_as,_uc=uc)\n",
    "\n",
    "''' crystal orientation '''\n",
    "ang_dif_pl = 0                # diffraction plane angle: 0 (vertical); pi/2 (horizontal)\n",
    "\n",
    "# outward normal vector to crystal surface\n",
    "nvx, nvy, nvz = OE_Crystal.find_orient(ekev*1e3,ang_dif_pl)[0][2]\n",
    "\n",
    "# central tangential vector\n",
    "tvx, tvy, _ = OE_Crystal.find_orient(ekev*1e3,ang_dif_pl)[0][0]\n",
    "\n",
    "OE_Crystal.set_orient(nvx,nvy,nvz,tvx,tvy)\n"
   ]
  },
  {
   "cell_type": "markdown",
   "metadata": {},
   "source": [
    "### Propagation"
   ]
  },
  {
   "cell_type": "code",
   "execution_count": 43,
   "metadata": {},
   "outputs": [
    {
     "name": "stdout",
     "output_type": "stream",
     "text": [
      "save hdf5:WPG_output/temporal/WPG_Asym_Crystal_bl_6.742keV.h5\n",
      "propagation lasted: 0.5 min\n"
     ]
    }
   ],
   "source": [
    "''' Propagation distance '''\n",
    "z2 = 1\n",
    "\n",
    "''' WPG '''\n",
    "optBL0 = Beamline()\n",
    "#optBL0.append(Apt, Use_PP())\n",
    "optBL0.append(OE_Crystal, Use_PP())\n",
    "optBL0.append(Drift(z2),  Use_PP(semi_analytical_treatment=0))\n",
    "\n",
    "optBL = optBL0\n",
    "bl = optBL\n",
    "\n",
    "out_file_name = os.path.join(strDataFolderName, 'WPG_Asym_Crystal_bl_{}keV.h5'.format(ekev))\n",
    "print('save hdf5:'+ out_file_name)\n",
    "\n",
    "startTime = time.time()\n",
    "srwl.SetRepresElecField(mwf._srwl_wf, 'f') # <---- switch to frequency domain\n",
    "bl.propagate(mwf)\n",
    "srwl.SetRepresElecField(mwf._srwl_wf, 't')\n",
    "print('propagation lasted: {} min'.format(round((time.time() - startTime) / 6.) / 10.))\n"
   ]
  },
  {
   "cell_type": "code",
   "execution_count": 44,
   "metadata": {},
   "outputs": [
    {
     "name": "stdout",
     "output_type": "stream",
     "text": [
      "R-space\n"
     ]
    },
    {
     "data": {
      "text/plain": [
       "Text(0, 0.5, 'y (mm)')"
      ]
     },
     "execution_count": 44,
     "metadata": {},
     "output_type": "execute_result"
    },
    {
     "data": {
      "text/plain": [
       "<Figure size 432x288 with 0 Axes>"
      ]
     },
     "metadata": {},
     "output_type": "display_data"
    },
    {
     "data": {
      "image/png": "[encoded data removed]",
      "text/plain": [
       "<Figure size 432x288 with 2 Axes>"
      ]
     },
     "metadata": {
      "needs_background": "light"
     },
     "output_type": "display_data"
    }
   ],
   "source": [
    "# plot propagated beam (slices)\n",
    "cmin = (mwf.get_intensity()).min()\n",
    "cmax = (mwf.get_intensity()).max()\n",
    "\n",
    "[xmin, xmax, ymin, ymax] = mwf.get_limits()\n",
    "intensity_all = mwf.get_intensity().sum()\n",
    "plt.figure()\n",
    "for islice in range(nz):\n",
    "    intensity_slice = mwf.get_intensity(slice_number=islice)\n",
    "    plt.imshow(intensity_slice,cmap='jet',clim=(cmin,cmax),\n",
    "              extent = [xmin*1e3, xmax*1e3, ymin*1e3, ymax*1e3])\n",
    "    plt.colorbar()\n",
    "    plt.title('slice {}/{}, intensity {}%'.format(islice,nz-1,np.floor(100*intensity_slice.sum()/intensity_all)))\n",
    "    plt.xlabel('x (mm)')\n",
    "    plt.ylabel('y (mm)')\n",
    "    dirname = strDataFolderName+'propagated_beam_{}fs/'.format(round(pulse_duration*1e15,1))\n",
    "    filename = dirname+'slice{}.png'.format(islice)\n",
    "    if not os.path.exists(dirname):\n",
    "        mkdir_p(dirname)\n",
    "    plt.savefig(filename)\n",
    "    plt.clf()\n",
    "\n",
    "# make gif\n",
    "with imageio.get_writer(dirname+'beam.gif', mode='I', duration=0.3) as writer:\n",
    "    for islice in range(nz):\n",
    "        dirname = strDataFolderName+'propagated_beam_{}fs/'.format(round(pulse_duration*1e15,1))\n",
    "        filename = dirname+'slice{}.png'.format(islice)\n",
    "        image = imageio.imread(filename)\n",
    "        writer.append_data(image)\n",
    "\n",
    "# plot integrated intensity\n",
    "intensity_det = mwf.get_intensity().sum(axis=-1)\n",
    "plt.figure()\n",
    "plt.imshow(intensity_det, cmap='jet',\n",
    "          extent = [xmin*1e3, xmax*1e3, ymin*1e3, ymax*1e3])\n",
    "plt.colorbar()\n",
    "plt.title('integrated intensity')\n",
    "plt.xlabel('x (mm)')\n",
    "plt.ylabel('y (mm)')\n"
   ]
  },
  {
   "cell_type": "code",
   "execution_count": null,
   "metadata": {},
   "outputs": [],
   "source": [
    "\n"
   ]
  },
  {
   "cell_type": "code",
   "execution_count": 10,
   "metadata": {
    "scrolled": false
   },
   "outputs": [
    {
     "ename": "NameError",
     "evalue": "name 'mwf_backup' is not defined",
     "output_type": "error",
     "traceback": [
      "\u001b[1;31m---------------------------------------------------------------------------\u001b[0m",
      "\u001b[1;31mNameError\u001b[0m                                 Traceback (most recent call last)",
      "\u001b[1;32m<ipython-input-10-65b66bcc9f93>\u001b[0m in \u001b[0;36m<module>\u001b[1;34m\u001b[0m\n\u001b[0;32m      1\u001b[0m \u001b[1;34m''' plot '''\u001b[0m\u001b[1;33m\u001b[0m\u001b[1;33m\u001b[0m\u001b[0m\n\u001b[0;32m      2\u001b[0m \u001b[1;31m# incident beam\u001b[0m\u001b[1;33m\u001b[0m\u001b[1;33m\u001b[0m\u001b[1;33m\u001b[0m\u001b[0m\n\u001b[1;32m----> 3\u001b[1;33m \u001b[1;33m[\u001b[0m\u001b[0mxmin\u001b[0m\u001b[1;33m,\u001b[0m \u001b[0mxmax\u001b[0m\u001b[1;33m,\u001b[0m \u001b[0mymin\u001b[0m\u001b[1;33m,\u001b[0m \u001b[0mymax\u001b[0m\u001b[1;33m]\u001b[0m \u001b[1;33m=\u001b[0m \u001b[0mmwf_backup\u001b[0m\u001b[1;33m.\u001b[0m\u001b[0mget_limits\u001b[0m\u001b[1;33m(\u001b[0m\u001b[1;33m)\u001b[0m\u001b[1;33m\u001b[0m\u001b[1;33m\u001b[0m\u001b[0m\n\u001b[0m\u001b[0;32m      4\u001b[0m \u001b[0mplt\u001b[0m\u001b[1;33m.\u001b[0m\u001b[0mfigure\u001b[0m\u001b[1;33m(\u001b[0m\u001b[0mfigsize\u001b[0m\u001b[1;33m=\u001b[0m\u001b[1;33m(\u001b[0m\u001b[1;36m16\u001b[0m\u001b[1;33m,\u001b[0m\u001b[1;36m6\u001b[0m\u001b[1;33m)\u001b[0m\u001b[1;33m)\u001b[0m\u001b[1;33m\u001b[0m\u001b[1;33m\u001b[0m\u001b[0m\n\u001b[0;32m      5\u001b[0m \u001b[0mplt\u001b[0m\u001b[1;33m.\u001b[0m\u001b[0msubplot\u001b[0m\u001b[1;33m(\u001b[0m\u001b[1;36m1\u001b[0m\u001b[1;33m,\u001b[0m\u001b[1;36m2\u001b[0m\u001b[1;33m,\u001b[0m\u001b[1;36m1\u001b[0m\u001b[1;33m)\u001b[0m\u001b[1;33m\u001b[0m\u001b[1;33m\u001b[0m\u001b[0m\n",
      "\u001b[1;31mNameError\u001b[0m: name 'mwf_backup' is not defined"
     ]
    }
   ],
   "source": [
    "''' plot '''\n",
    "# incident beam\n",
    "[xmin, xmax, ymin, ymax] = mwf_backup.get_limits()\n",
    "plt.figure(figsize=(16,6))\n",
    "plt.subplot(1,2,1)\n",
    "plt.imshow(mwf_backup.get_intensity(slice_number=0),cmap='jet',\n",
    "          extent = [xmin*1e3, xmax*1e3, ymin*1e3, ymax*1e3])\n",
    "plt.colorbar()\n",
    "plt.title('incident Gaussian beam')\n",
    "plt.xlabel('x (mm)')\n",
    "plt.ylabel('y (mm)')\n",
    "\n",
    "# reflected beam\n",
    "[xmin, xmax, ymin, ymax] = mwf.get_limits()\n",
    "plt.subplot(1,2,2)\n",
    "plt.imshow(mwf.get_intensity().sum(axis=-1),cmap='jet',\n",
    "          extent = [xmin*1e3, xmax*1e3, ymin*1e3, ymax*1e3])\n",
    "plt.colorbar()\n",
    "plt.title('reflected beam')\n",
    "plt.xlabel('x (mm)')\n",
    "plt.ylabel('y (mm)')\n",
    "\n",
    "'''\n",
    "# phase plot\n",
    "[xmin, xmax, ymin, ymax] = mwf_backup.get_limits()\n",
    "plt.figure(figsize=(16,6))\n",
    "plt.subplot(1,2,1)\n",
    "plt.imshow(mwf_backup.get_phase(slice_number=0),cmap='jet',\n",
    "          extent = [xmin*1e3, xmax*1e3, ymin*1e3, ymax*1e3])\n",
    "plt.colorbar()\n",
    "plt.title('incident Gaussian beam')\n",
    "plt.xlabel('x (mm)')\n",
    "plt.ylabel('y (mm)')\n",
    "\n",
    "# reflected beam\n",
    "[xmin, xmax, ymin, ymax] = mwf.get_limits()\n",
    "plt.subplot(1,2,2)\n",
    "plt.imshow(mwf.get_phase(slice_number=0),cmap='jet',\n",
    "          extent = [xmin*1e3, xmax*1e3, ymin*1e3, ymax*1e3])\n",
    "plt.colorbar()\n",
    "plt.title('reflected beam')\n",
    "plt.xlabel('x (mm)')\n",
    "plt.ylabel('y (mm)')\n",
    "'''"
   ]
  },
  {
   "cell_type": "code",
   "execution_count": null,
   "metadata": {},
   "outputs": [],
   "source": [
    "# spatial spectrum\n",
    "field = mwf.get_real_part(slice_number=0) + 1j * mwf.get_imag_part(slice_number=0)\n",
    "FFT2 = np.fft.fftshift(np.fft.fft2(np.fft.fftshift(field)))\n",
    "\n",
    "[xmin, xmax, ymin, ymax] = mwf.get_limits()\n",
    "dx = (xmax-xmin)/(npoints-1)\n",
    "dy = (ymax-ymin)/(npoints-1)\n",
    "fx_max = 1/2/dx\n",
    "fy_max = 1/2/dy\n",
    "\n",
    "plt.figure(figsize=(6,6))\n",
    "plt.imshow(np.abs(FFT2),cmap='jet',\n",
    "          extent=[-fx_max,fx_max,-fy_max,fy_max])\n",
    "plt.colorbar()\n",
    "plt.title('FFT2')\n",
    "plt.xlabel('fx')\n",
    "plt.ylabel('fy')"
   ]
  },
  {
   "cell_type": "code",
   "execution_count": null,
   "metadata": {},
   "outputs": [],
   "source": [
    "# Q-space\n",
    "mwf_fft = copy.deepcopy(mwf._srwl_wf)\n",
    "srwl.SetRepresElecField(mwf_fft,'a')\n",
    "mwf_fft = Wavefront(mwf_fft)\n",
    "\n",
    "[Qxmin, Qxmax, Qymin, Qymax] = mwf_fft.get_limits()\n",
    "\n",
    "plt.figure(figsize=(6,6))\n",
    "plt.imshow(mwf_fft.get_intensity().sum(axis=-1), cmap='jet',\n",
    "          extent = [Qxmin*1e6, Qxmax*1e6, Qymin*1e6, Qymax*1e6])\n",
    "plt.colorbar()\n",
    "plt.title('Q-space')\n",
    "plt.xlabel(r'$\\mu$rad')\n",
    "plt.ylabel(r'$\\mu$rad')\n"
   ]
  },
  {
   "cell_type": "markdown",
   "metadata": {},
   "source": [
    "# Next\n",
    "\n",
    "Simulate how well can asymmetric crystals focus chirped pulse.\n",
    "\n",
    "The first challenge is to use chirped pulse as an input."
   ]
  },
  {
   "cell_type": "code",
   "execution_count": null,
   "metadata": {},
   "outputs": [],
   "source": []
  },
  {
   "cell_type": "code",
   "execution_count": null,
   "metadata": {},
   "outputs": [],
   "source": []
  },
  {
   "cell_type": "code",
   "execution_count": null,
   "metadata": {},
   "outputs": [],
   "source": []
  }
 ],
 "metadata": {
  "kernelspec": {
   "display_name": "Python 3",
   "language": "python",
   "name": "python3"
  },
  "language_info": {
   "codemirror_mode": {
    "name": "ipython",
    "version": 3
   },
   "file_extension": ".py",
   "mimetype": "text/x-python",
   "name": "python",
   "nbconvert_exporter": "python",
   "pygments_lexer": "ipython3",
   "version": "3.6.10"
  }
 },
 "nbformat": 4,
 "nbformat_minor": 1
}
